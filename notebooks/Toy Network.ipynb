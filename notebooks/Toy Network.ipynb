{
 "cells": [
  {
   "cell_type": "code",
   "execution_count": 1,
   "id": "2f696e8b",
   "metadata": {},
   "outputs": [],
   "source": [
    "import networkx as nx\n",
    "import infomap\n",
    "import numpy as np\n",
    "import pandas as pd\n",
    "from analysis import mkPartition"
   ]
  },
  {
   "cell_type": "markdown",
   "id": "6bcf23d4",
   "metadata": {},
   "source": [
    "# Create the network"
   ]
  },
  {
   "cell_type": "code",
   "execution_count": 2,
   "id": "74b9fdca",
   "metadata": {},
   "outputs": [],
   "source": [
    "G = nx.Graph()\n",
    "G.add_edges_from([ (\"1\",\"2\"), (\"1\",\"3\"), (\"1\",\"4\"), (\"2\",\"4\"), (\"3\",\"4\") # left module\n",
    "                 , (\"4\",\"5\")                                             # bridge\n",
    "                 , (\"5\",\"6\"), (\"5\",\"7\"), (\"5\",\"8\"), (\"6\",\"7\")            # right module\n",
    "                 ])"
   ]
  },
  {
   "cell_type": "code",
   "execution_count": 3,
   "id": "4206d141",
   "metadata": {},
   "outputs": [],
   "source": [
    "pos = { \"1\" : [1,2]\n",
    "      , \"2\" : [0,1]\n",
    "      , \"3\" : [1,0]\n",
    "      , \"4\" : [2,1]\n",
    "      , \"5\" : [3,1]\n",
    "      , \"6\" : [4,2]\n",
    "      , \"7\" : [4,1]\n",
    "      , \"8\" : [4,0]\n",
    "      }"
   ]
  },
  {
   "cell_type": "code",
   "execution_count": 4,
   "id": "81f80b20",
   "metadata": {},
   "outputs": [
    {
     "data": {
      "image/png": "[encoded data removed]",
      "text/plain": [
       "<Figure size 432x288 with 1 Axes>"
      ]
     },
     "metadata": {},
     "output_type": "display_data"
    }
   ],
   "source": [
    "nx.draw(G, pos = pos)\n",
    "_ = nx.draw_networkx_nodes(G, pos = pos, node_color = \"grey\")\n",
    "_ = nx.draw_networkx_labels(G, pos = pos, font_color = \"white\")"
   ]
  },
  {
   "cell_type": "markdown",
   "id": "b854d8ef",
   "metadata": {},
   "source": [
    "# Calculate centralities"
   ]
  },
  {
   "cell_type": "code",
   "execution_count": 5,
   "id": "6d9b7a58",
   "metadata": {},
   "outputs": [],
   "source": [
    "im_one_level = infomap.Infomap(silent = True, no_infomap = True)\n",
    "node_mapping = im_one_level.add_networkx_graph(G)\n",
    "im_one_level.run()\n",
    "\n",
    "one_level_centralities = pd.Series({ node_mapping[node.node_id] : node.modular_centrality for node in im_one_level.iterLeafNodes()}, name = \"$M_1$\")"
   ]
  },
  {
   "cell_type": "code",
   "execution_count": 6,
   "id": "ec3cf5fe",
   "metadata": {},
   "outputs": [],
   "source": [
    "im = infomap.Infomap(silent = True, two_level = True, num_trials = 100)\n",
    "node_mapping = im.add_networkx_graph(G)\n",
    "im.run()\n",
    "im.write_tree(\"toy-optimal.tree\")\n",
    "\n",
    "optimal_centralities = pd.Series({ node_mapping[node.node_id] : node.modular_centrality for node in im.iterLeafNodes() }, name = \"$M_{opt}$\")"
   ]
  },
  {
   "cell_type": "code",
   "execution_count": 7,
   "id": "e839888e",
   "metadata": {},
   "outputs": [
    {
     "data": {
      "text/plain": [
       "{1: {'1', '2', '3', '4'}, 2: {'5', '6', '7', '8'}}"
      ]
     },
     "execution_count": 7,
     "metadata": {},
     "output_type": "execute_result"
    }
   ],
   "source": [
    "mkPartition(im)"
   ]
  },
  {
   "cell_type": "code",
   "execution_count": 8,
   "id": "b2ea11cf",
   "metadata": {},
   "outputs": [],
   "source": [
    "partition = [{\"1\",\"2\",\"3\"}, {\"4\",\"5\",\"6\",\"7\",\"8\"}]\n",
    "\n",
    "tree = dict()\n",
    "\n",
    "# read the tree file\n",
    "with open(\"toy-optimal.tree\", \"r\") as fh:\n",
    "    for line in fh:\n",
    "        if not line.startswith(\"#\"):\n",
    "            _, flow, name, node_id = line.strip().split(\" \")\n",
    "            name = name[1:-1]\n",
    "            tree[name] = (flow, node_id)\n",
    "\n",
    "# write the Louvain partition to an Infomap tree file\n",
    "with open(\"toy-suboptimal.tree\", \"w\") as fh:\n",
    "    for community_ID, community in enumerate(partition, start = 1):\n",
    "        for node_pos, node in enumerate(community, start = 1):\n",
    "            path = f\"{community_ID}:{node_pos}\"\n",
    "            flow, node_id = tree[node]\n",
    "            fh.write(f\"{path} {flow} \\\"{node}\\\" {node_id}\\n\")\n",
    "\n",
    "\n",
    "im_sub = infomap.Infomap(silent = True, no_infomap = True, cluster_data = \"toy-suboptimal.tree\")\n",
    "node_mapping = im_sub.add_networkx_graph(G)\n",
    "im_sub.run()\n",
    "\n",
    "suboptimal_centralities = pd.Series({ node_mapping[node.node_id] : node.modular_centrality for node in im_sub.iterLeafNodes() }, name = \"$M_{sub}$\")"
   ]
  },
  {
   "cell_type": "code",
   "execution_count": 9,
   "id": "c3e759ae",
   "metadata": {},
   "outputs": [
    {
     "data": {
      "text/plain": [
       "{2: {'1', '2', '3'}, 1: {'4', '5', '6', '7', '8'}}"
      ]
     },
     "execution_count": 9,
     "metadata": {},
     "output_type": "execute_result"
    }
   ],
   "source": [
    "mkPartition(im_sub)"
   ]
  },
  {
   "cell_type": "code",
   "execution_count": 10,
   "id": "656b1a06",
   "metadata": {},
   "outputs": [
    {
     "data": {
      "text/html": [
       "<div>\n",
       "<style scoped>\n",
       "    .dataframe tbody tr th:only-of-type {\n",
       "        vertical-align: middle;\n",
       "    }\n",
       "\n",
       "    .dataframe tbody tr th {\n",
       "        vertical-align: top;\n",
       "    }\n",
       "\n",
       "    .dataframe thead th {\n",
       "        text-align: right;\n",
       "    }\n",
       "</style>\n",
       "<table border=\"1\" class=\"dataframe\">\n",
       "  <thead>\n",
       "    <tr style=\"text-align: right;\">\n",
       "      <th></th>\n",
       "      <th>DC</th>\n",
       "      <th>BC</th>\n",
       "      <th>PR</th>\n",
       "      <th>$M_1$</th>\n",
       "      <th>$M_{sub}$</th>\n",
       "      <th>$M_{opt}$</th>\n",
       "    </tr>\n",
       "  </thead>\n",
       "  <tbody>\n",
       "    <tr>\n",
       "      <th>1</th>\n",
       "      <td>0.428571</td>\n",
       "      <td>0.023810</td>\n",
       "      <td>0.149994</td>\n",
       "      <td>0.199295</td>\n",
       "      <td>0.161471</td>\n",
       "      <td>0.183773</td>\n",
       "    </tr>\n",
       "    <tr>\n",
       "      <th>2</th>\n",
       "      <td>0.285714</td>\n",
       "      <td>0.000000</td>\n",
       "      <td>0.099996</td>\n",
       "      <td>0.136803</td>\n",
       "      <td>0.121357</td>\n",
       "      <td>0.130278</td>\n",
       "    </tr>\n",
       "    <tr>\n",
       "      <th>3</th>\n",
       "      <td>0.285714</td>\n",
       "      <td>0.000000</td>\n",
       "      <td>0.099996</td>\n",
       "      <td>0.136803</td>\n",
       "      <td>0.121357</td>\n",
       "      <td>0.130278</td>\n",
       "    </tr>\n",
       "    <tr>\n",
       "      <th>4</th>\n",
       "      <td>0.571429</td>\n",
       "      <td>0.595238</td>\n",
       "      <td>0.199995</td>\n",
       "      <td>0.257542</td>\n",
       "      <td>0.238732</td>\n",
       "      <td>0.228227</td>\n",
       "    </tr>\n",
       "    <tr>\n",
       "      <th>5</th>\n",
       "      <td>0.571429</td>\n",
       "      <td>0.666667</td>\n",
       "      <td>0.200007</td>\n",
       "      <td>0.257542</td>\n",
       "      <td>0.238732</td>\n",
       "      <td>0.211999</td>\n",
       "    </tr>\n",
       "    <tr>\n",
       "      <th>6</th>\n",
       "      <td>0.285714</td>\n",
       "      <td>0.000000</td>\n",
       "      <td>0.100005</td>\n",
       "      <td>0.136803</td>\n",
       "      <td>0.132554</td>\n",
       "      <td>0.126900</td>\n",
       "    </tr>\n",
       "    <tr>\n",
       "      <th>7</th>\n",
       "      <td>0.285714</td>\n",
       "      <td>0.000000</td>\n",
       "      <td>0.100005</td>\n",
       "      <td>0.136803</td>\n",
       "      <td>0.132554</td>\n",
       "      <td>0.126900</td>\n",
       "    </tr>\n",
       "    <tr>\n",
       "      <th>8</th>\n",
       "      <td>0.142857</td>\n",
       "      <td>0.000000</td>\n",
       "      <td>0.050002</td>\n",
       "      <td>0.070301</td>\n",
       "      <td>0.069286</td>\n",
       "      <td>0.067970</td>\n",
       "    </tr>\n",
       "  </tbody>\n",
       "</table>\n",
       "</div>"
      ],
      "text/plain": [
       "         DC        BC        PR     $M_1$  $M_{sub}$  $M_{opt}$\n",
       "1  0.428571  0.023810  0.149994  0.199295   0.161471   0.183773\n",
       "2  0.285714  0.000000  0.099996  0.136803   0.121357   0.130278\n",
       "3  0.285714  0.000000  0.099996  0.136803   0.121357   0.130278\n",
       "4  0.571429  0.595238  0.199995  0.257542   0.238732   0.228227\n",
       "5  0.571429  0.666667  0.200007  0.257542   0.238732   0.211999\n",
       "6  0.285714  0.000000  0.100005  0.136803   0.132554   0.126900\n",
       "7  0.285714  0.000000  0.100005  0.136803   0.132554   0.126900\n",
       "8  0.142857  0.000000  0.050002  0.070301   0.069286   0.067970"
      ]
     },
     "execution_count": 10,
     "metadata": {},
     "output_type": "execute_result"
    }
   ],
   "source": [
    "pd.concat( [ pd.DataFrame(index = sorted(G.nodes))\n",
    "           , pd.Series(nx.algorithms.centrality.degree_centrality(G), name = \"DC\")\n",
    "           , pd.Series(nx.algorithms.centrality.betweenness_centrality(G), name = \"BC\")\n",
    "           , pd.Series(nx.pagerank(G, alpha = 1), name = \"PR\")\n",
    "           , one_level_centralities\n",
    "           , suboptimal_centralities\n",
    "           , optimal_centralities\n",
    "           ]\n",
    "         , axis = 1\n",
    "         )"
   ]
  }
 ],
 "metadata": {
  "kernelspec": {
   "display_name": "Python 3 (ipykernel)",
   "language": "python",
   "name": "python3"
  },
  "language_info": {
   "codemirror_mode": {
    "name": "ipython",
    "version": 3
   },
   "file_extension": ".py",
   "mimetype": "text/x-python",
   "name": "python",
   "nbconvert_exporter": "python",
   "pygments_lexer": "ipython3",
   "version": "3.9.7"
  }
 },
 "nbformat": 4,
 "nbformat_minor": 5
}
