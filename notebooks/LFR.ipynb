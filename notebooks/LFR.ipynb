{
 "cells": [
  {
   "cell_type": "code",
   "execution_count": 1,
   "id": "6c737f9a",
   "metadata": {},
   "outputs": [],
   "source": [
    "%matplotlib inline\n",
    "%load_ext autoreload\n",
    "%autoreload 2\n",
    "\n",
    "import infomap           as im\n",
    "import matplotlib.pyplot as plt\n",
    "import networkx          as nx\n",
    "import numpy             as np\n",
    "import seaborn           as sb\n",
    "\n",
    "from analysis import *\n",
    "from scipy.stats import entropy, kendalltau\n",
    "from sklearn.metrics import adjusted_mutual_info_score"
   ]
  },
  {
   "cell_type": "code",
   "execution_count": 2,
   "id": "abe5a055",
   "metadata": {},
   "outputs": [],
   "source": [
    "colours = [\"windows blue\", \"amber\", \"pale red\", \"greyish\", \"faded green\", \"dusty purple\", \"orange\"]\n",
    "\n",
    "sb.set()\n",
    "sb.set_style(\"whitegrid\", {'grid.linestyle': '--'}),\n",
    "sb.set_palette(sb.xkcd_palette(colours))"
   ]
  },
  {
   "cell_type": "code",
   "execution_count": 3,
   "id": "f8b1cecc",
   "metadata": {},
   "outputs": [],
   "source": [
    "plt.rcParams.update({\n",
    "    \"text.usetex\": True,\n",
    "    \"font.family\": \"sans-serif\",\n",
    "    \"font.sans-serif\": [\"Helvetica\"]})"
   ]
  },
  {
   "cell_type": "markdown",
   "id": "2a867661",
   "metadata": {},
   "source": [
    "# Create LFR network"
   ]
  },
  {
   "cell_type": "code",
   "execution_count": 4,
   "id": "10797e8d",
   "metadata": {},
   "outputs": [],
   "source": [
    "n    = 1000\n",
    "tau1 = 2.5\n",
    "tau2 = 1.5\n",
    "mu   = 0.1\n",
    "G = nx.generators.community.LFR_benchmark_graph( n              = 1000\n",
    "                                               , tau1           =    2.5\n",
    "                                               , tau2           =    1.5\n",
    "                                               , mu             =    0.1\n",
    "                                               , average_degree =   10\n",
    "                                               , min_community  =  100\n",
    "                                               , seed           =   42\n",
    "                                               )"
   ]
  },
  {
   "cell_type": "code",
   "execution_count": 5,
   "id": "b5a73a23",
   "metadata": {},
   "outputs": [],
   "source": [
    "# ground truth community assignments\n",
    "communities = { frozenset(G.nodes[v][\"community\"]) for v in G }\n",
    "\n",
    "community_assignments = dict()\n",
    "for (m, nodes) in enumerate(communities):\n",
    "    for node in nodes:\n",
    "        community_assignments[node] = m\n",
    "\n",
    "# ground truth labels\n",
    "y_true = [community_assignments[u] for u in G.nodes]"
   ]
  },
  {
   "cell_type": "code",
   "execution_count": 6,
   "id": "7de982bd",
   "metadata": {},
   "outputs": [],
   "source": [
    "# detect communities with infomap\n",
    "info = im.Infomap(silent = True, two_level = True, num_trials = 100)\n",
    "info.add_networkx_graph(G)\n",
    "info.run()"
   ]
  },
  {
   "cell_type": "code",
   "execution_count": 7,
   "id": "c5fbbdcf",
   "metadata": {},
   "outputs": [],
   "source": [
    "# extract communities from infomap\n",
    "M = dict()\n",
    "for (u, m) in info.get_modules().items():\n",
    "    if m not in M:\n",
    "        M[m] = set()\n",
    "    M[m].add(u)\n",
    "\n",
    "inferred = { frozenset(v) for v in M.values() }"
   ]
  },
  {
   "cell_type": "code",
   "execution_count": 8,
   "id": "c7094dd7",
   "metadata": {},
   "outputs": [
    {
     "data": {
      "text/plain": [
       "True"
      ]
     },
     "execution_count": 8,
     "metadata": {},
     "output_type": "execute_result"
    }
   ],
   "source": [
    "# check if infomap finds the ground truth\n",
    "inferred == communities"
   ]
  },
  {
   "cell_type": "code",
   "execution_count": 9,
   "id": "cfc78773",
   "metadata": {},
   "outputs": [],
   "source": [
    "ranking_original = sorted( [ (node.node_id, node.modular_centrality) for node in info.iterLeafNodes() ]\n",
    "                         , key     = lambda p: p[1]\n",
    "                         , reverse = True\n",
    "                         )\n",
    "ranking_original = [ node for (node,_) in ranking_original ]"
   ]
  },
  {
   "cell_type": "markdown",
   "id": "3692c328",
   "metadata": {},
   "source": [
    "# Rewiring and checking communities"
   ]
  },
  {
   "cell_type": "code",
   "execution_count": 10,
   "id": "f100b34a",
   "metadata": {},
   "outputs": [],
   "source": [
    "ps   = [0.05 * p for p in range(21)]\n",
    "amis = []\n",
    "taus = []\n",
    "mus  = []\n",
    "num_communities = []\n",
    "effect_communities = []\n",
    "\n",
    "np.random.seed(42)\n",
    "\n",
    "# for all fractions of rewiring\n",
    "for p in ps:\n",
    "    amis_tmp = []\n",
    "    taus_tmp = []\n",
    "    mus_tmp  = []\n",
    "    num_communities_tmp = []\n",
    "    effect_communities_tmp = []\n",
    "    \n",
    "    # repeat 100 times per rewiring fraction\n",
    "    for _ in range(100):\n",
    "        # one swap requires two edges, so the number of swaps\n",
    "        # has to be half of the fraction of edges we want to swap\n",
    "        G_ = nx.algorithms.swap.double_edge_swap( G         = G.copy()\n",
    "                                                , nswap     = int(0.5 * p * G.number_of_edges())\n",
    "                                                , max_tries = G.number_of_edges()\n",
    "                                                , seed      = np.random.randint(1e6))\n",
    "\n",
    "        # detect communities after rewiring\n",
    "        info_ = im.Infomap(silent = True, two_level = True, num_trials = 100)\n",
    "        info_.add_networkx_graph(G_)\n",
    "        info_.run()\n",
    "        \n",
    "        # and extract the new community structure\n",
    "        M_ = dict()\n",
    "        for (u, m) in info_.get_modules().items():\n",
    "            if m not in M_:\n",
    "                M_[m] = set()\n",
    "            M_[m].add(u)\n",
    "\n",
    "        community_assignments_ = dict()\n",
    "        for (m, nodes) in M_.items():\n",
    "            for node in nodes:\n",
    "                community_assignments_[node] = m\n",
    "        \n",
    "        # calculate mixing\n",
    "        intra_links = 0\n",
    "        inter_links = 0\n",
    "\n",
    "        for (u,v) in G.edges:\n",
    "            if community_assignments_[u] == community_assignments_[v]:\n",
    "                intra_links += 1\n",
    "            else:\n",
    "                inter_links += 1\n",
    "\n",
    "        mu = inter_links / (inter_links + intra_links)\n",
    "        mus_tmp.append(mu)\n",
    "\n",
    "        # AMI and tau\n",
    "        y_pred = [community_assignments_[u] for u in G.nodes]\n",
    "        amis_tmp.append(adjusted_mutual_info_score(labels_true = y_true, labels_pred = y_pred))\n",
    "\n",
    "        ranking_rewired = sorted( [ (node.node_id, node.modular_centrality) for node in info_.iterLeafNodes() ]\n",
    "                                , key     = lambda p: p[1]\n",
    "                                , reverse = True\n",
    "                                )\n",
    "        ranking_rewired = [ node for (node,_) in ranking_rewired ]\n",
    "        \n",
    "        taus_tmp.append(kendalltau(ranking_original, ranking_rewired).correlation)\n",
    "        \n",
    "        # number of communities and effective number of communities\n",
    "        num_communities_tmp.append(len(M_))\n",
    "        effect_communities_tmp.append(2**entropy([len(m) for m in M_.values()], base = 2))\n",
    "    \n",
    "    amis.append(np.average(amis_tmp))\n",
    "    taus.append(np.average(taus_tmp))\n",
    "    mus.append(np.average(mus_tmp))\n",
    "    num_communities.append(np.average(num_communities_tmp))\n",
    "    effect_communities.append(np.average(effect_communities_tmp))"
   ]
  },
  {
   "cell_type": "code",
   "execution_count": 11,
   "id": "955ca7bf",
   "metadata": {},
   "outputs": [
    {
     "name": "stderr",
     "output_type": "stream",
     "text": [
      "/tmp/ipykernel_2260128/2824712371.py:3: UserWarning: FixedFormatter should only be used together with FixedLocator\n",
      "  ax1.set_yticklabels([\"0.0\",\"0.2\",\"0.4\",\"0.6\",\"0.8\",\"1.0\"], fontsize = 16)\n",
      "/tmp/ipykernel_2260128/2824712371.py:4: UserWarning: FixedFormatter should only be used together with FixedLocator\n",
      "  ax1.set_xticklabels([\"0.0\",\"0.2\",\"0.4\",\"0.6\",\"0.8\",\"1.0\"], fontsize = 16)\n"
     ]
    },
    {
     "data": {
      "image/png": "[encoded data removed]",
      "text/plain": [
       "<Figure size 432x288 with 2 Axes>"
      ]
     },
     "metadata": {},
     "output_type": "display_data"
    }
   ],
   "source": [
    "fig, ax1 = plt.subplots(1,1,figsize=(6,4))\n",
    "\n",
    "ax1.set_yticklabels([\"0.0\",\"0.2\",\"0.4\",\"0.6\",\"0.8\",\"1.0\"], fontsize = 16)\n",
    "ax1.set_xticklabels([\"0.0\",\"0.2\",\"0.4\",\"0.6\",\"0.8\",\"1.0\"], fontsize = 16)\n",
    "ax1.set_xlim(0,1)\n",
    "ax1.set_ylim(0,1)\n",
    "ax1.set_xlabel(\"fraction rewired links r\", fontsize = 16)\n",
    "ax1.set_ylabel(\"AMI, $\\\\tau$, $\\\\mu$\", color = 'black', fontsize = 16)\n",
    "p1, = ax1.plot(ps, amis, color = sb.color_palette()[0], marker = \"o\")\n",
    "p2, = ax1.plot(ps, taus, color = sb.color_palette()[1], marker = \"s\")\n",
    "p3, = ax1.plot(ps, mus,  color = sb.color_palette()[2], marker = \"v\")\n",
    "#ax1.tick_params(axis ='y', labelcolor = 'red')\n",
    "\n",
    "ax2 = ax1.twinx()\n",
    "ax2.set_yticks([0, 6, 12, 18, 24, 30])\n",
    "ax2.set_yticklabels([\"0\",\"6\",\"12\",\"18\",\"24\",\"30\"], fontsize = 16)\n",
    "ax2.set_ylim(0,30)\n",
    "ax2.set_ylabel(\"\\#modules\", color = \"black\", fontsize = 16)\n",
    "p4, = ax2.plot(ps, num_communities, color = sb.color_palette()[3], marker = \"^\")\n",
    "p5, = ax2.plot(ps, effect_communities, color = sb.color_palette()[3], marker = \"^\", fillstyle = \"none\", linestyle = \"--\")\n",
    "ax2.tick_params(axis ='y', labelcolor = \"black\")\n",
    "\n",
    "l1 = plt.legend([p1,p2,p3,p4,p5], [\"AMI\", \"$\\\\tau$\", \"$\\\\mu$\", \"$M$\", \"$\\\\tilde{M}$\"], fontsize = 15, loc = 1)\n",
    "plt.gca().add_artist(l1)\n",
    "plt.tight_layout()\n",
    "plt.savefig(\"../plots/LFR.pdf\")"
   ]
  },
  {
   "cell_type": "code",
   "execution_count": 12,
   "id": "48bc9e78",
   "metadata": {},
   "outputs": [
    {
     "name": "stdout",
     "output_type": "stream",
     "text": [
      "PDFCROP 1.40, 2020/06/06 - Copyright (c) 2002-2020 by Heiko Oberdiek, Oberdiek Package Support Group.\n",
      "==> 1 page written on `../plots/LFR-crop.pdf'.\n"
     ]
    }
   ],
   "source": [
    "!pdfcrop ../plots/LFR.pdf\n",
    "!mv ../plots/LFR-crop.pdf ../plots/LFR.pdf"
   ]
  }
 ],
 "metadata": {
  "kernelspec": {
   "display_name": "Python 3 (ipykernel)",
   "language": "python",
   "name": "python3"
  },
  "language_info": {
   "codemirror_mode": {
    "name": "ipython",
    "version": 3
   },
   "file_extension": ".py",
   "mimetype": "text/x-python",
   "name": "python",
   "nbconvert_exporter": "python",
   "pygments_lexer": "ipython3",
   "version": "3.9.7"
  }
 },
 "nbformat": 4,
 "nbformat_minor": 5
}
