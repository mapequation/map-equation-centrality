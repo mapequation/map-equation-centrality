{
 "cells": [
  {
   "cell_type": "markdown",
   "id": "de4df171",
   "metadata": {},
   "source": [
    "# Imports"
   ]
  },
  {
   "cell_type": "code",
   "execution_count": 1,
   "id": "04ecd47e",
   "metadata": {},
   "outputs": [],
   "source": [
    "%matplotlib inline\n",
    "%load_ext autoreload\n",
    "%autoreload 2\n",
    "\n",
    "import infomap           as im\n",
    "import matplotlib.pyplot as plt\n",
    "import networkx          as nx\n",
    "import numpy             as np\n",
    "import pandas            as pd\n",
    "import seaborn           as sb\n",
    "\n",
    "from analysis import *\n",
    "from os.path  import exists"
   ]
  },
  {
   "cell_type": "code",
   "execution_count": 2,
   "id": "3614e104",
   "metadata": {},
   "outputs": [],
   "source": [
    "colours = [\"windows blue\", \"amber\", \"pale red\", \"greyish\", \"faded green\", \"dusty purple\", \"orange\"]\n",
    "\n",
    "sb.set()\n",
    "sb.set_style(\"whitegrid\", {'grid.linestyle': '--'}),\n",
    "sb.set_palette(sb.xkcd_palette(colours))"
   ]
  },
  {
   "cell_type": "markdown",
   "id": "c80aeae6",
   "metadata": {},
   "source": [
    "# Load data"
   ]
  },
  {
   "cell_type": "code",
   "execution_count": 3,
   "id": "34e2dda2",
   "metadata": {},
   "outputs": [
    {
     "name": "stdout",
     "output_type": "stream",
     "text": [
      "  % Total    % Received % Xferd  Average Speed   Time    Time     Time  Current\n",
      "                                 Dload  Upload   Total   Spent    Left  Speed\n",
      "100  267k  100  267k    0     0   573k      0 --:--:-- --:--:-- --:--:--  573k\n"
     ]
    }
   ],
   "source": [
    "!mkdir -p ../data\n",
    "!curl https://networks.skewed.de/net/ego_social/files/facebook_combined.csv.zip > ../data/ego-facebook.zip\n",
    "!unzip -p ../data/ego-facebook.zip edges.csv > ../data/ego-facebook.csv"
   ]
  },
  {
   "cell_type": "code",
   "execution_count": 4,
   "id": "4788dbf5",
   "metadata": {},
   "outputs": [],
   "source": [
    "G_raw = nx.Graph()\n",
    "\n",
    "with open(\"../data/ego-facebook.csv\", \"r\") as fh:\n",
    "    for line in fh:\n",
    "        u,v = line.strip().split(\",\")\n",
    "        G_raw.add_edge(u,v)\n",
    "\n",
    "G = G_raw.subgraph(max(nx.connected_components(G_raw), key=len)).copy()"
   ]
  },
  {
   "cell_type": "code",
   "execution_count": 5,
   "id": "466c9287",
   "metadata": {},
   "outputs": [],
   "source": [
    "with open(\"../data/ego-facebook.edgelist\", \"w\") as fh:\n",
    "    for (u,v) in G.edges:\n",
    "        fh.write(f\"{u} {v}\\n\")"
   ]
  },
  {
   "cell_type": "markdown",
   "id": "129e1613",
   "metadata": {},
   "source": [
    "# Infer community structure with Louvain"
   ]
  },
  {
   "cell_type": "code",
   "execution_count": 6,
   "id": "ad29303f",
   "metadata": {},
   "outputs": [
    {
     "name": "stderr",
     "output_type": "stream",
     "text": [
      "Progress |################################| 999/999\n",
      "\u001b[?25h"
     ]
    }
   ],
   "source": [
    "partition   = nx.algorithms.community.louvain_communities(G, seed = 0)\n",
    "partition_Q = nx.algorithms.community.modularity(G, partition)\n",
    "\n",
    "for seed in Bar(\"Progress\", check_tty = False).iter(range(1,1000)):\n",
    "    partition_   = nx.algorithms.community.louvain_communities(G, seed = seed)\n",
    "    partition_Q_ = nx.algorithms.community.modularity(G, partition_)\n",
    "    \n",
    "    if partition_Q_ > partition_Q:\n",
    "        partition   = partition_\n",
    "        partition_Q = partition_Q_"
   ]
  },
  {
   "cell_type": "code",
   "execution_count": 7,
   "id": "93311024",
   "metadata": {},
   "outputs": [],
   "source": [
    "communities = { community_ID : set(community) for (community_ID, community) in enumerate(partition, start = 1)}"
   ]
  },
  {
   "cell_type": "code",
   "execution_count": 8,
   "id": "351e0c8a",
   "metadata": {},
   "outputs": [],
   "source": [
    "community_assignments = dict()\n",
    "for (community_ID, community) in communities.items():\n",
    "    for node in community:\n",
    "        community_assignments[node] = community_ID"
   ]
  },
  {
   "cell_type": "markdown",
   "id": "e33370f0",
   "metadata": {},
   "source": [
    "# Some data statistics"
   ]
  },
  {
   "cell_type": "code",
   "execution_count": 9,
   "id": "8c429028",
   "metadata": {},
   "outputs": [
    {
     "name": "stdout",
     "output_type": "stream",
     "text": [
      "#nodes:       4039\n",
      "#edges:       88234\n",
      "#communities: 17\n",
      "#eff. comm.:  12\n",
      "<k>:          43.691\n",
      "<k²>:         4656.144\n",
      "transitivity: 0.519\n",
      "mixing:       0.039\n",
      "λth:          0.009\n"
     ]
    }
   ],
   "source": [
    "showStats(G, community_assignments, communities)"
   ]
  },
  {
   "cell_type": "markdown",
   "id": "357e2515",
   "metadata": {},
   "source": [
    "# Calculate / load centrality scores"
   ]
  },
  {
   "cell_type": "code",
   "execution_count": 10,
   "id": "b2373f43",
   "metadata": {},
   "outputs": [
    {
     "name": "stderr",
     "output_type": "stream",
     "text": [
      "Community Hub Bridge |#######################         | 3018/4039IOPub message rate exceeded.\n",
      "The notebook server will temporarily stop sending output\n",
      "to the client in order to avoid crashing it.\n",
      "To change this limit, set the config variable\n",
      "`--NotebookApp.iopub_msg_rate_limit`.\n",
      "\n",
      "Current values:\n",
      "NotebookApp.iopub_msg_rate_limit=1000.0 (msgs/sec)\n",
      "NotebookApp.rate_limit_window=3.0 (secs)\n",
      "\n",
      "Community-based Centrality |#######################         | 3019/4039IOPub message rate exceeded.\n",
      "The notebook server will temporarily stop sending output\n",
      "to the client in order to avoid crashing it.\n",
      "To change this limit, set the config variable\n",
      "`--NotebookApp.iopub_msg_rate_limit`.\n",
      "\n",
      "Current values:\n",
      "NotebookApp.iopub_msg_rate_limit=1000.0 (msgs/sec)\n",
      "NotebookApp.rate_limit_window=3.0 (secs)\n",
      "\n",
      "Modularity Vitality |################################| 4039/4039\n",
      "\u001b[?25h"
     ]
    }
   ],
   "source": [
    "results_file = \"../results/ego-facebook-modularity.csv\"\n",
    "\n",
    "if not exists(results_file):\n",
    "    # Community Hub Bridge\n",
    "    com_hb_ranks = calculate_community_hub_bridge_ranks(G = G, communities = communities, community_assignments = community_assignments)\n",
    "    \n",
    "    # Community-based Centrality\n",
    "    com_bc_ranks = calculate_community_based_centrality_ranks(G = G, communities = communities, community_assignments = community_assignments)\n",
    "\n",
    "    # Modularity Vitality\n",
    "    mod_vit_ranks = calculate_modularity_vitality_ranks(G = G, partition = partition)\n",
    "    \n",
    "    # Map Equation Centrality\n",
    "    tree_file = \"../results/ego-facebook-temp.tree\"\n",
    "\n",
    "    # use Infomap to write a tree file that we change to reflect the Louvain partition\n",
    "    infomap = im.Infomap(silent = True, num_trials = 1, directed = False, two_level = True, seed = 42)\n",
    "    infomap.add_networkx_graph(G)\n",
    "    infomap.run()\n",
    "    infomap.write_tree(tree_file)\n",
    "    \n",
    "    infomap_tree = dict()\n",
    "\n",
    "    # read the tree file\n",
    "    with open(tree_file, \"r\") as fh:\n",
    "        for line in fh:\n",
    "            if not line.startswith(\"#\"):\n",
    "                _, flow, name, node_id = line.strip().split(\" \")\n",
    "                name = name[1:-1]\n",
    "                infomap_tree[name] = (flow, node_id)\n",
    "    \n",
    "    # write the Louvain partition to an Infomap tree file\n",
    "    with open(\"../results/ego-facebook-modularity.tree\", \"w\") as fh:\n",
    "        for community_ID, community in enumerate(partition, start = 1):\n",
    "            for node_pos, node in enumerate(community, start = 1):\n",
    "                path = f\"{community_ID}:{node_pos}\"\n",
    "                flow, node_id = infomap_tree[node]\n",
    "                fh.write(f\"{path} {flow} \\\"{node}\\\" {node_id}\\n\")\n",
    "    \n",
    "    # Load the Louvain partition with Infomap and use unrecorded link teleportation\n",
    "    infomap2 = im.Infomap(\"--silent --no-infomap --cluster-data ../results/ego-facebook-modularity.tree\")\n",
    "    node_mapping = infomap2.add_networkx_graph(G)\n",
    "    infomap2.run()\n",
    "    \n",
    "    mec_ranks = [ node for node, _score in sorted( [ (node_mapping[node.node_id], node.modular_centrality) for node in infomap2.iterLeafNodes() ]\n",
    "                                                 , key     = second\n",
    "                                                 , reverse = True\n",
    "                                                 )]\n",
    "    \n",
    "    # Load the Louvain partition with Infomap and use recorded node teleportation\n",
    "    infomap3 = im.Infomap(\"--silent --no-infomap --directed --recorded-teleportation --to-nodes --cluster-data ../results/ego-facebook-modularity.tree\")\n",
    "    node_mapping_pr = infomap3.add_networkx_graph(G)\n",
    "    infomap3.run()\n",
    "    \n",
    "    mec_ranks_pr = [ node for node, _score in sorted( [ (node_mapping_pr[node.node_id], node.modular_centrality) for node in infomap3.iterLeafNodes() ]\n",
    "                                                    , key     = second\n",
    "                                                    , reverse = True\n",
    "                                                    )]\n",
    "    \n",
    "    # Degree and betweenness centrality\n",
    "    dc_ranks      = [ node for node, _score in sorted( nx.algorithms.centrality.degree_centrality(G).items()\n",
    "                                                     , key     = second\n",
    "                                                     , reverse = True\n",
    "                                                     )]\n",
    "    between_ranks = [ node for node, _score in sorted( nx.algorithms.centrality.betweenness_centrality(G).items()\n",
    "                                                     , key     = second\n",
    "                                                     , reverse = True\n",
    "                                                     )]\n",
    "    \n",
    "    results = pd.DataFrame()\n",
    "    results.index = G.nodes\n",
    "\n",
    "    results[\"map equation centrality rank\"]       = toRanking(mec_ranks,        results.index)\n",
    "    results[\"map equation centrality rank pr\"]    = toRanking(mec_ranks_pr,     results.index)\n",
    "    results[\"modularity vitality rank\"]           = toRanking(mod_vit_ranks,    results.index)\n",
    "    results[\"community hub-bridge rank\"]          = toRanking(com_hb_ranks,     results.index)\n",
    "    results[\"community-based centrality rank\"]    = toRanking(com_bc_ranks,     results.index)\n",
    "    results[\"degree centrality rank\"]             = toRanking(dc_ranks,         results.index)\n",
    "    results[\"betweenness centrality rank\"]        = toRanking(between_ranks,    results.index)\n",
    "\n",
    "    results.to_csv(results_file)\n",
    "\n",
    "else:\n",
    "    results = pd.read_csv(results_file, index_col = 0)\n",
    "\n",
    "    mec_ranks         = mkRanks(results[\"map equation centrality rank\"])\n",
    "    mec_ranks_pr      = mkRanks(results[\"map equation centrality rank pr\"])\n",
    "    mod_vit_ranks     = mkRanks(results[\"modularity vitality rank\"])\n",
    "    com_hb_ranks      = mkRanks(results[\"community hub-bridge rank\"])\n",
    "    com_bc_ranks      = mkRanks(results[\"community-based centrality rank\"])\n",
    "    dc_ranks          = mkRanks(results[\"degree centrality rank\"])\n",
    "    between_ranks     = mkRanks(results[\"betweenness centrality rank\"])"
   ]
  },
  {
   "cell_type": "markdown",
   "id": "a32bad4d",
   "metadata": {},
   "source": [
    "# SIR"
   ]
  },
  {
   "cell_type": "code",
   "execution_count": 11,
   "id": "e18b813f",
   "metadata": {},
   "outputs": [],
   "source": [
    "if not exists(\"../data/ego-facebook.spreading_power\"):\n",
    "    !../spreading-power-exe --input ../data/ego-facebook.edgelist \\\n",
    "                            --output ../data/ego-facebook.spreading_power \\\n",
    "                            --seed 42 \\\n",
    "                            --iterations 1000 \\\n",
    "                            --directed"
   ]
  },
  {
   "cell_type": "code",
   "execution_count": 12,
   "id": "b8e4c4b0",
   "metadata": {},
   "outputs": [],
   "source": [
    "spreading_power = dict()\n",
    "with open(\"../data/ego-facebook.spreading_power\") as fh:\n",
    "    for line in fh:\n",
    "        node, power = line.strip().split(\" \")\n",
    "        spreading_power[node] = float(power)"
   ]
  },
  {
   "cell_type": "code",
   "execution_count": 13,
   "id": "e68c8145",
   "metadata": {},
   "outputs": [],
   "source": [
    "sir_ranks = [ node for node, _score \n",
    "              in sorted( spreading_power.items()\n",
    "                       , key     = lambda p: p[1]\n",
    "                       , reverse = True\n",
    "                       )\n",
    "            ]"
   ]
  },
  {
   "cell_type": "markdown",
   "id": "3c8b9e55",
   "metadata": {},
   "source": [
    "# Plotting"
   ]
  },
  {
   "cell_type": "code",
   "execution_count": 14,
   "id": "abc49504",
   "metadata": {},
   "outputs": [
    {
     "data": {
      "image/png": "[encoded data removed]",
      "text/plain": [
       "<Figure size 360x309.6 with 1 Axes>"
      ]
     },
     "metadata": {},
     "output_type": "display_data"
    }
   ],
   "source": [
    "node_fractions = [0.01 * p for p in range (1,21)]\n",
    "\n",
    "mec_x,     mec_y     = zip(*get_imperfections(mec_ranks,         sir_ranks, spreading_power, node_fractions = node_fractions))\n",
    "mec_pr_x,  mec_pr_y  = zip(*get_imperfections(mec_ranks_pr,      sir_ranks, spreading_power, node_fractions = node_fractions))\n",
    "mod_vit_x, mod_vit_y = zip(*get_imperfections(mod_vit_ranks,     sir_ranks, spreading_power, node_fractions = node_fractions))\n",
    "com_hb_x,  com_hb_y  = zip(*get_imperfections(com_hb_ranks,      sir_ranks, spreading_power, node_fractions = node_fractions))\n",
    "com_bc_x,  com_bc_y  = zip(*get_imperfections(com_bc_ranks,      sir_ranks, spreading_power, node_fractions = node_fractions))\n",
    "dc_x,      dc_y      = zip(*get_imperfections(dc_ranks,          sir_ranks, spreading_power, node_fractions = node_fractions))\n",
    "between_x, between_y = zip(*get_imperfections(between_ranks,     sir_ranks, spreading_power, node_fractions = node_fractions))\n",
    "\n",
    "fig = plt.figure(figsize = (5,4.3))\n",
    "\n",
    "plt.plot(mec_x,     mec_y,     marker = \"o\", color = sb.color_palette()[0], label = \"map equation centrality\")\n",
    "plt.plot(mod_vit_x, mod_vit_y, marker = \"s\", color = sb.color_palette()[1], label = \"modularity vitality\")\n",
    "plt.plot(com_hb_x,  com_hb_y,  marker = \"v\", color = sb.color_palette()[2], label = \"community hub bridge\")\n",
    "plt.plot(com_bc_x,  com_bc_y,  marker = \"^\", color = sb.color_palette()[4], label = \"comm.-based centrality\")\n",
    "plt.plot(dc_x,      dc_y,      marker = \"d\", color = sb.color_palette()[3], linestyle = \"dotted\", label = \"degree centrality\")\n",
    "plt.plot(between_x, between_y, marker = \"h\", color = sb.color_palette()[5], linestyle = \"dotted\", label = \"betweenness centrality\")\n",
    "plt.plot(mec_pr_x,  mec_pr_y,  marker = \"o\", color = sb.color_palette()[0], linestyle = \"--\", fillstyle = \"none\")\n",
    "plt.plot(mec_x,     mec_y,     marker = \"o\", color = sb.color_palette()[0])\n",
    "\n",
    "plt.title(\"Ego Facebook\", fontsize = 18)\n",
    "plt.ylabel(\"imprecision $\\epsilon_c$\", fontsize = 18)\n",
    "plt.xlabel(\"fraction top spreaders\", fontsize = 18)\n",
    "plt.xticks(fontsize = 16)\n",
    "plt.yticks(fontsize = 16)\n",
    "plt.xlim(0.0,0.2)\n",
    "plt.ylim(0,1)\n",
    "plt.tight_layout()\n",
    "plt.savefig(\"../plots/sir-ego-facebook-modularity.pdf\")"
   ]
  },
  {
   "cell_type": "code",
   "execution_count": 15,
   "id": "401dfa08",
   "metadata": {},
   "outputs": [
    {
     "name": "stdout",
     "output_type": "stream",
     "text": [
      "PDFCROP 1.40, 2020/06/06 - Copyright (c) 2002-2020 by Heiko Oberdiek, Oberdiek Package Support Group.\n",
      "==> 1 page written on `../plots/sir-ego-facebook-modularity-crop.pdf'.\n"
     ]
    }
   ],
   "source": [
    "!pdfcrop ../plots/sir-ego-facebook-modularity.pdf\n",
    "!mv ../plots/sir-ego-facebook-modularity-crop.pdf ../plots/sir-ego-facebook-modularity.pdf"
   ]
  }
 ],
 "metadata": {
  "kernelspec": {
   "display_name": "Python 3 (ipykernel)",
   "language": "python",
   "name": "python3"
  },
  "language_info": {
   "codemirror_mode": {
    "name": "ipython",
    "version": 3
   },
   "file_extension": ".py",
   "mimetype": "text/x-python",
   "name": "python",
   "nbconvert_exporter": "python",
   "pygments_lexer": "ipython3",
   "version": "3.9.7"
  }
 },
 "nbformat": 4,
 "nbformat_minor": 5
}
